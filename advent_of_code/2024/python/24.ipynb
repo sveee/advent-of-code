{
 "cells": [
  {
   "cell_type": "code",
   "execution_count": 280,
   "metadata": {},
   "outputs": [],
   "source": [
    "import re\n",
    "from collections import defaultdict\n",
    "from dataclasses import dataclass\n",
    "\n",
    "@dataclass(frozen=True, order=True)\n",
    "class Connection:\n",
    "    left: str\n",
    "    right: str\n",
    "    output: str\n",
    "    op: str\n",
    "\n",
    "\n",
    "def run_wires(connections, gates):\n",
    "    gates = gates.copy()\n",
    "    connections_by_operand = defaultdict(list)\n",
    "    for connection in connections:\n",
    "        connections_by_operand[connection.left].append(connection)\n",
    "        connections_by_operand[connection.right].append(connection)\n",
    "\n",
    "    in_degree = defaultdict(int)\n",
    "    for connection in connections:\n",
    "        for next_connection in connections_by_operand[connection.output]:\n",
    "            in_degree[next_connection] += 1\n",
    "\n",
    "    zero_degrees = [\n",
    "        connection for connection in connections if in_degree.get(connection, 0) == 0\n",
    "    ]\n",
    "\n",
    "    while len(zero_degrees) > 0:\n",
    "        connection = zero_degrees.pop()\n",
    "        match connection.op:\n",
    "            case 'AND':\n",
    "                gates[connection.output] = (\n",
    "                    gates[connection.left] & gates[connection.right]\n",
    "                )\n",
    "            case 'OR':\n",
    "                gates[connection.output] = (\n",
    "                    gates[connection.left] | gates[connection.right]\n",
    "                )\n",
    "            case 'XOR':\n",
    "                gates[connection.output] = (\n",
    "                    gates[connection.left] ^ gates[connection.right]\n",
    "                )\n",
    "\n",
    "        for next_connection in connections_by_operand[connection.output]:\n",
    "            in_degree[next_connection] -= 1\n",
    "            if in_degree[next_connection] == 0:\n",
    "                zero_degrees.append(next_connection)\n",
    "    return gates\n",
    "\n",
    "def parse_input(text):\n",
    "    x_value_lines, connection_lines = text.split('\\n\\n')\n",
    "    gates = {}\n",
    "    for line in x_value_lines.splitlines():\n",
    "        x, value = re.search('(.+): (\\d)', line).groups()\n",
    "        gates[x] = int(value)\n",
    "\n",
    "    connections = set()\n",
    "    for line in connection_lines.splitlines():\n",
    "        left, op, right, output = re.search(\n",
    "            '([^\\s]+) ([^\\s]+) ([^\\s]+) -> ([^\\s]+)', line\n",
    "        ).groups()\n",
    "        left, right = sorted([left, right])\n",
    "        connections.add(Connection(left, right, output, op))\n",
    "    return connections\n",
    "\n",
    "\n",
    "def get_subset(z_gates, connections):\n",
    "    connection_by_output = {}\n",
    "    for connection in connections:\n",
    "        connection_by_output[connection.output] = connection\n",
    "\n",
    "    stack = [connection_by_output[z_gate] for z_gate in z_gates]\n",
    "    subset = set(stack)\n",
    "    while len(stack) > 0:\n",
    "        connection = stack.pop()\n",
    "        if connection.left in connection_by_output and connection_by_output[connection.left] not in subset:\n",
    "            stack.append(connection_by_output[connection.left])\n",
    "            subset.add(connection_by_output[connection.left])\n",
    "        if connection.right in connection_by_output and connection_by_output[connection.right] not in subset:\n",
    "            stack.append(connection_by_output[connection.right])\n",
    "            subset.add(connection_by_output[connection.right])\n",
    "    return subset\n"
   ]
  },
  {
   "cell_type": "code",
   "execution_count": 282,
   "metadata": {},
   "outputs": [],
   "source": [
    "with open('../input/24.txt') as f:\n",
    "    text = f.read()\n"
   ]
  },
  {
   "cell_type": "code",
   "execution_count": 353,
   "metadata": {},
   "outputs": [],
   "source": [
    "\n",
    "def swap(output1, output2, connections):\n",
    "    con1 = next(\n",
    "        con\n",
    "        for con in connections\n",
    "        if con.output == output1\n",
    "    )\n",
    "    con2 = next(\n",
    "        con\n",
    "        for con in connections\n",
    "        if con.output == output2\n",
    "    )\n",
    "\n",
    "    return connections - {con1, con2} | {Connection(con1.left, con1.right, con2.output, con1.op), Connection(con2.left, con2.right, con1.output, con2.op)}\n",
    "    "
   ]
  },
  {
   "cell_type": "code",
   "execution_count": 379,
   "metadata": {},
   "outputs": [],
   "source": [
    "connections = parse_input(text)\n",
    "ans = []\n",
    "connections = swap('qjj', 'gjc', connections)\n",
    "connections = swap('z17', 'wmp', connections)\n",
    "connections = swap('z26', 'gvm', connections)\n",
    "connections = swap('z39', 'qsb', connections)"
   ]
  },
  {
   "cell_type": "code",
   "execution_count": null,
   "metadata": {},
   "outputs": [],
   "source": [
    "# test 1\n",
    "\n",
    "for n in range(1, 45):\n",
    "    z_gates = [f'z{i:02d}' for i in range(n)]\n",
    "    values = {}\n",
    "    for i in range(n):\n",
    "        values[f'x{i:02d}'] = 0\n",
    "        values[f'y{i:02d}'] = 0\n",
    "\n",
    "    for a in range(2):\n",
    "        for b in range(2):\n",
    "            values[f'x{n-1:02d}'] = a\n",
    "            values[f'y{n-1:02d}'] = b\n",
    "            values = run_wires(get_subset(z_gates, connections), values)\n",
    "            assert a ^ b == values[f'z{n-1:02d}'], (f'z{n-1:02d}', a, b)"
   ]
  },
  {
   "cell_type": "code",
   "execution_count": 378,
   "metadata": {},
   "outputs": [
    {
     "data": {
      "text/plain": [
       "'gjc,gvm,qjj,qsb,wmp,z17,z26,z39'"
      ]
     },
     "execution_count": 378,
     "metadata": {},
     "output_type": "execute_result"
    }
   ],
   "source": [
    "','.join(sorted(['qjj', 'gjc', 'z17', 'wmp', 'z26', 'gvm', 'z39', 'qsb',]))"
   ]
  },
  {
   "cell_type": "code",
   "execution_count": 371,
   "metadata": {},
   "outputs": [
    {
     "data": {
      "text/plain": [
       "{'z00': 0,\n",
       " 'z01': 0,\n",
       " 'z02': 0,\n",
       " 'z03': 0,\n",
       " 'z04': 0,\n",
       " 'z05': 0,\n",
       " 'z06': 0,\n",
       " 'z07': 0,\n",
       " 'z08': 0,\n",
       " 'z09': 0,\n",
       " 'z10': 0,\n",
       " 'z11': 0,\n",
       " 'z12': 0,\n",
       " 'z13': 0,\n",
       " 'z14': 0,\n",
       " 'z15': 0,\n",
       " 'z16': 0,\n",
       " 'z17': 0,\n",
       " 'z18': 0,\n",
       " 'z19': 0,\n",
       " 'z20': 0,\n",
       " 'z21': 0,\n",
       " 'z22': 0,\n",
       " 'z23': 0,\n",
       " 'z24': 0,\n",
       " 'z25': 0,\n",
       " 'z26': 1,\n",
       " 'z27': 1,\n",
       " 'z28': 1,\n",
       " 'z29': 1}"
      ]
     },
     "execution_count": 371,
     "metadata": {},
     "output_type": "execute_result"
    }
   ],
   "source": [
    "\n",
    "# test 2\n",
    "\n",
    "n = 30\n",
    "for i in range(n):\n",
    "    values[f'x{i:02d}'] = 0\n",
    "    values[f'y{i:02d}'] = 1\n",
    "values['x00'] = 1\n",
    "z_gates = [f'z{i:02d}' for i in range(n)]\n",
    "values = run_wires(get_subset(z_gates, connections), values)\n",
    "{\n",
    "    name: value\n",
    "    for name, value in sorted(values.items())\n",
    "    if name.startswith('z')\n",
    "}"
   ]
  },
  {
   "cell_type": "code",
   "execution_count": 292,
   "metadata": {},
   "outputs": [],
   "source": [
    "def to_graphviz(connections):\n",
    "    s = ''\n",
    "    for connection in connections:\n",
    "         s += f'{connection.output} [label=\"{connection.op} {connection.output}\"];\\n'\n",
    "    for connection in connections:\n",
    "        s += f'{connection.left} -> {connection.output};\\n'\n",
    "        s += f'{connection.right} -> {connection.output};\\n'\n",
    "\n",
    "    with open('graphviz.txt', 'w') as f:\n",
    "        f.write(s)"
   ]
  },
  {
   "cell_type": "code",
   "execution_count": 343,
   "metadata": {},
   "outputs": [],
   "source": [
    "to_graphviz(connections)"
   ]
  }
 ],
 "metadata": {
  "kernelspec": {
   "display_name": "Python 3",
   "language": "python",
   "name": "python3"
  },
  "language_info": {
   "codemirror_mode": {
    "name": "ipython",
    "version": 3
   },
   "file_extension": ".py",
   "mimetype": "text/x-python",
   "name": "python",
   "nbconvert_exporter": "python",
   "pygments_lexer": "ipython3",
   "version": "3.11.3"
  }
 },
 "nbformat": 4,
 "nbformat_minor": 2
}
